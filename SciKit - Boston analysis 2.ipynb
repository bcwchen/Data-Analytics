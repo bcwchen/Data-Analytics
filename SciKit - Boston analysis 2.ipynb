{
 "cells": [
  {
   "cell_type": "code",
   "execution_count": 26,
   "metadata": {},
   "outputs": [
    {
     "data": {
      "text/plain": [
       "['base',\n",
       " 'california_housing',\n",
       " 'clear_data_home',\n",
       " 'covtype',\n",
       " 'dump_svmlight_file',\n",
       " 'fetch_20newsgroups',\n",
       " 'fetch_20newsgroups_vectorized',\n",
       " 'fetch_california_housing',\n",
       " 'fetch_covtype',\n",
       " 'fetch_kddcup99',\n",
       " 'fetch_lfw_pairs',\n",
       " 'fetch_lfw_people',\n",
       " 'fetch_mldata',\n",
       " 'fetch_olivetti_faces',\n",
       " 'fetch_rcv1',\n",
       " 'fetch_species_distributions',\n",
       " 'get_data_home',\n",
       " 'kddcup99',\n",
       " 'lfw',\n",
       " 'load_boston',\n",
       " 'load_breast_cancer',\n",
       " 'load_diabetes',\n",
       " 'load_digits',\n",
       " 'load_files',\n",
       " 'load_iris',\n",
       " 'load_linnerud',\n",
       " 'load_mlcomp',\n",
       " 'load_sample_image',\n",
       " 'load_sample_images',\n",
       " 'load_svmlight_file',\n",
       " 'load_svmlight_files',\n",
       " 'load_wine',\n",
       " 'make_biclusters',\n",
       " 'make_blobs',\n",
       " 'make_checkerboard',\n",
       " 'make_circles',\n",
       " 'make_classification',\n",
       " 'make_friedman1',\n",
       " 'make_friedman2',\n",
       " 'make_friedman3',\n",
       " 'make_gaussian_quantiles',\n",
       " 'make_hastie_10_2',\n",
       " 'make_low_rank_matrix',\n",
       " 'make_moons',\n",
       " 'make_multilabel_classification',\n",
       " 'make_regression',\n",
       " 'make_s_curve',\n",
       " 'make_sparse_coded_signal',\n",
       " 'make_sparse_spd_matrix',\n",
       " 'make_sparse_uncorrelated',\n",
       " 'make_spd_matrix',\n",
       " 'make_swiss_roll',\n",
       " 'mlcomp',\n",
       " 'mldata',\n",
       " 'mldata_filename',\n",
       " 'olivetti_faces',\n",
       " 'rcv1',\n",
       " 'samples_generator',\n",
       " 'species_distributions',\n",
       " 'svmlight_format',\n",
       " 'twenty_newsgroups']"
      ]
     },
     "execution_count": 26,
     "metadata": {},
     "output_type": "execute_result"
    }
   ],
   "source": [
    "import pandas as pd\n",
    "from sklearn import datasets\n",
    "[attr for attr in dir(datasets) if not attr.startswith('_')]"
   ]
  },
  {
   "cell_type": "code",
   "execution_count": 4,
   "metadata": {},
   "outputs": [],
   "source": [
    "boston = datasets.load_boston()"
   ]
  },
  {
   "cell_type": "code",
   "execution_count": 5,
   "metadata": {},
   "outputs": [
    {
     "name": "stdout",
     "output_type": "stream",
     "text": [
      "Boston House Prices dataset\n",
      "===========================\n",
      "\n",
      "Notes\n",
      "------\n",
      "Data Set Characteristics:  \n",
      "\n",
      "    :Number of Instances: 506 \n",
      "\n",
      "    :Number of Attributes: 13 numeric/categorical predictive\n",
      "    \n",
      "    :Median Value (attribute 14) is usually the target\n",
      "\n",
      "    :Attribute Information (in order):\n",
      "        - CRIM     per capita crime rate by town\n",
      "        - ZN       proportion of residential land zoned for lots over 25,000 sq.ft.\n",
      "        - INDUS    proportion of non-retail business acres per town\n",
      "        - CHAS     Charles River dummy variable (= 1 if tract bounds river; 0 otherwise)\n",
      "        - NOX      nitric oxides concentration (parts per 10 million)\n",
      "        - RM       average number of rooms per dwelling\n",
      "        - AGE      proportion of owner-occupied units built prior to 1940\n",
      "        - DIS      weighted distances to five Boston employment centres\n",
      "        - RAD      index of accessibility to radial highways\n",
      "        - TAX      full-value property-tax rate per $10,000\n",
      "        - PTRATIO  pupil-teacher ratio by town\n",
      "        - B        1000(Bk - 0.63)^2 where Bk is the proportion of blacks by town\n",
      "        - LSTAT    % lower status of the population\n",
      "        - MEDV     Median value of owner-occupied homes in $1000's\n",
      "\n",
      "    :Missing Attribute Values: None\n",
      "\n",
      "    :Creator: Harrison, D. and Rubinfeld, D.L.\n",
      "\n",
      "This is a copy of UCI ML housing dataset.\n",
      "http://archive.ics.uci.edu/ml/datasets/Housing\n",
      "\n",
      "\n",
      "This dataset was taken from the StatLib library which is maintained at Carnegie Mellon University.\n",
      "\n",
      "The Boston house-price data of Harrison, D. and Rubinfeld, D.L. 'Hedonic\n",
      "prices and the demand for clean air', J. Environ. Economics & Management,\n",
      "vol.5, 81-102, 1978.   Used in Belsley, Kuh & Welsch, 'Regression diagnostics\n",
      "...', Wiley, 1980.   N.B. Various transformations are used in the table on\n",
      "pages 244-261 of the latter.\n",
      "\n",
      "The Boston house-price data has been used in many machine learning papers that address regression\n",
      "problems.   \n",
      "     \n",
      "**References**\n",
      "\n",
      "   - Belsley, Kuh & Welsch, 'Regression diagnostics: Identifying Influential Data and Sources of Collinearity', Wiley, 1980. 244-261.\n",
      "   - Quinlan,R. (1993). Combining Instance-Based and Model-Based Learning. In Proceedings on the Tenth International Conference of Machine Learning, 236-243, University of Massachusetts, Amherst. Morgan Kaufmann.\n",
      "   - many more! (see http://archive.ics.uci.edu/ml/datasets/Housing)\n",
      "\n"
     ]
    }
   ],
   "source": [
    "print boston.DESCR"
   ]
  },
  {
   "cell_type": "code",
   "execution_count": 27,
   "metadata": {},
   "outputs": [],
   "source": [
    "boston_df = pd.DataFrame(boston.data, columns=boston.feature_names)\n",
    "boston_df.head()\n",
    "# set X y\n",
    "X = boston.data\n",
    "y = boston.target"
   ]
  },
  {
   "cell_type": "code",
   "execution_count": 7,
   "metadata": {},
   "outputs": [],
   "source": [
    "from sklearn.metrics import explained_variance_score\n",
    "from sklearn.metrics import mean_absolute_error\n",
    "from sklearn.metrics import r2_score"
   ]
  },
  {
   "cell_type": "code",
   "execution_count": 8,
   "metadata": {},
   "outputs": [],
   "source": [
    "from sklearn.model_selection import cross_val_predict\n",
    "from sklearn.neighbors import KNeighborsRegressor\n",
    "from sklearn.linear_model import LinearRegression, RANSACRegressor\n",
    "from sklearn.gaussian_process import GaussianProcessRegressor\n",
    "from sklearn.svm import SVR\n",
    "from sklearn.svm import LinearSVR"
   ]
  },
  {
   "cell_type": "code",
   "execution_count": 9,
   "metadata": {},
   "outputs": [],
   "source": [
    "regressors=[\n",
    "    LinearRegression(),\n",
    "    RANSACRegressor(),\n",
    "    GaussianProcessRegressor(),\n",
    "    KNeighborsRegressor(n_neighbors=9, metric='manhattan'),\n",
    "    SVR(),\n",
    "    LinearSVR(),\n",
    "    SVR(kernel='linear')\n",
    "]"
   ]
  },
  {
   "cell_type": "code",
   "execution_count": 17,
   "metadata": {},
   "outputs": [
    {
     "name": "stdout",
     "output_type": "stream",
     "text": [
      "LinearRegression(copy_X=True, fit_intercept=True, n_jobs=1, normalize=False)\n",
      "\tExplained variance: 0.59\n",
      "\tMean absolute error: 4.00\n",
      "\tR2 score: 0.59\n",
      "RANSACRegressor(base_estimator=None, is_data_valid=None, is_model_valid=None,\n",
      "        loss='absolute_loss', max_skips=inf, max_trials=100,\n",
      "        min_samples=None, random_state=None, residual_metric=None,\n",
      "        residual_threshold=None, stop_n_inliers=inf, stop_probability=0.99,\n",
      "        stop_score=inf)\n",
      "\tExplained variance: 0.01\n",
      "\tMean absolute error: 5.19\n",
      "\tR2 score: -0.08\n",
      "GaussianProcessRegressor(alpha=1e-10, copy_X_train=True, kernel=None,\n",
      "             n_restarts_optimizer=0, normalize_y=False,\n",
      "             optimizer='fmin_l_bfgs_b', random_state=None)\n",
      "\tExplained variance: 0.00\n",
      "\tMean absolute error: 22.52\n",
      "\tR2 score: -6.01\n",
      "KNeighborsRegressor(algorithm='auto', leaf_size=30, metric='manhattan',\n",
      "          metric_params=None, n_jobs=1, n_neighbors=9, p=2,\n",
      "          weights='uniform')\n",
      "\tExplained variance: -0.03\n",
      "\tMean absolute error: 6.45\n",
      "\tR2 score: -0.03\n",
      "SVR(C=1.0, cache_size=200, coef0=0.0, degree=3, epsilon=0.1, gamma='auto',\n",
      "  kernel='rbf', max_iter=-1, shrinking=True, tol=0.001, verbose=False)\n",
      "\tExplained variance: -0.06\n",
      "\tMean absolute error: 6.83\n",
      "\tR2 score: -0.08\n",
      "LinearSVR(C=1.0, dual=True, epsilon=0.0, fit_intercept=True,\n",
      "     intercept_scaling=1.0, loss='epsilon_insensitive', max_iter=1000,\n",
      "     random_state=None, tol=0.0001, verbose=0)\n",
      "\tExplained variance: 0.31\n",
      "\tMean absolute error: 5.88\n",
      "\tR2 score: 0.30\n",
      "SVR(C=1.0, cache_size=200, coef0=0.0, degree=3, epsilon=0.1, gamma='auto',\n",
      "  kernel='linear', max_iter=-1, shrinking=True, tol=0.001, verbose=False)\n",
      "\tExplained variance: 0.62\n",
      "\tMean absolute error: 3.75\n",
      "\tR2 score: 0.61\n"
     ]
    }
   ],
   "source": [
    "for model in regressors:\n",
    "    predictions = cross_val_predict(model, X, y, cv=10)\n",
    "    print(model)\n",
    "    print '\\tExplained variance: %.2f' %explained_variance_score(y, predictions)\n",
    "    print '\\tMean absolute error: %.2f' %mean_absolute_error(y, predictions)\n",
    "    print '\\tR2 score: %.2f' %r2_score(y, predictions)"
   ]
  },
  {
   "cell_type": "code",
   "execution_count": 20,
   "metadata": {},
   "outputs": [
    {
     "name": "stdout",
     "output_type": "stream",
     "text": [
      "GridSearchCV(cv=None, error_score='raise',\n",
      "       estimator=KNeighborsRegressor(algorithm='auto', leaf_size=30, metric='minkowski',\n",
      "          metric_params=None, n_jobs=1, n_neighbors=5, p=2,\n",
      "          weights='uniform'),\n",
      "       fit_params=None, iid=True, n_jobs=1,\n",
      "       param_grid={'n_neighbors': [5, 6, 7, 8, 9, 10, 11, 12], 'metric': ['minkowski', 'chebyshev', 'manhattan'], 'weights': ['uniform', 'distance']},\n",
      "       pre_dispatch='2*n_jobs', refit=True, return_train_score='warn',\n",
      "       scoring=None, verbose=0)\n"
     ]
    }
   ],
   "source": [
    "from sklearn.model_selection import GridSearchCV\n",
    "knr = KNeighborsRegressor()\n",
    "\n",
    "parameters = {'n_neighbors': [5,6,7,8,9,10,11,12],\n",
    "              'weights': ['uniform', 'distance'],\n",
    "              'metric': ['minkowski', 'chebyshev', 'manhattan']\n",
    "             }\n",
    "grid =  GridSearchCV(knr, parameters)\n",
    "model = grid.fit(X, y)\n",
    "print(model)"
   ]
  },
  {
   "cell_type": "code",
   "execution_count": 21,
   "metadata": {},
   "outputs": [
    {
     "name": "stdout",
     "output_type": "stream",
     "text": [
      "Explained variance: -0.10\n",
      "Mean absolute error: 6.69\n",
      "R2 score: -0.10\n"
     ]
    }
   ],
   "source": [
    "predictions = cross_val_predict(model, X, y, cv=10)\n",
    "print 'Explained variance: %.2f' %explained_variance_score(y, predictions)\n",
    "print 'Mean absolute error: %.2f' %mean_absolute_error(y, predictions)\n",
    "print 'R2 score: %.2f' %r2_score(y, predictions)"
   ]
  },
  {
   "cell_type": "code",
   "execution_count": 22,
   "metadata": {},
   "outputs": [],
   "source": [
    "from sklearn import cluster\n",
    "spectral = cluster.SpectralClustering(\n",
    "        n_clusters=4, eigen_solver='arpack',\n",
    "        affinity=\"nearest_neighbors\")"
   ]
  },
  {
   "cell_type": "code",
   "execution_count": 28,
   "metadata": {},
   "outputs": [
    {
     "data": {
      "text/html": [
       "<div>\n",
       "<style scoped>\n",
       "    .dataframe tbody tr th:only-of-type {\n",
       "        vertical-align: middle;\n",
       "    }\n",
       "\n",
       "    .dataframe tbody tr th {\n",
       "        vertical-align: top;\n",
       "    }\n",
       "\n",
       "    .dataframe thead th {\n",
       "        text-align: right;\n",
       "    }\n",
       "</style>\n",
       "<table border=\"1\" class=\"dataframe\">\n",
       "  <thead>\n",
       "    <tr style=\"text-align: right;\">\n",
       "      <th></th>\n",
       "      <th>price</th>\n",
       "      <th>CRIM</th>\n",
       "      <th>RM</th>\n",
       "      <th>AGE</th>\n",
       "      <th>DIS</th>\n",
       "    </tr>\n",
       "  </thead>\n",
       "  <tbody>\n",
       "    <tr>\n",
       "      <th>low</th>\n",
       "      <td>12.800000</td>\n",
       "      <td>15.689918</td>\n",
       "      <td>6.103088</td>\n",
       "      <td>89.835294</td>\n",
       "      <td>2.000068</td>\n",
       "    </tr>\n",
       "    <tr>\n",
       "      <th>mid_low</th>\n",
       "      <td>17.418447</td>\n",
       "      <td>11.082796</td>\n",
       "      <td>5.974233</td>\n",
       "      <td>90.011650</td>\n",
       "      <td>2.072428</td>\n",
       "    </tr>\n",
       "    <tr>\n",
       "      <th>mid_high</th>\n",
       "      <td>21.212500</td>\n",
       "      <td>0.894798</td>\n",
       "      <td>6.087675</td>\n",
       "      <td>82.507500</td>\n",
       "      <td>2.480024</td>\n",
       "    </tr>\n",
       "    <tr>\n",
       "      <th>high</th>\n",
       "      <td>25.866090</td>\n",
       "      <td>0.248699</td>\n",
       "      <td>6.471142</td>\n",
       "      <td>54.576817</td>\n",
       "      <td>4.984178</td>\n",
       "    </tr>\n",
       "  </tbody>\n",
       "</table>\n",
       "</div>"
      ],
      "text/plain": [
       "              price       CRIM        RM        AGE       DIS\n",
       "low       12.800000  15.689918  6.103088  89.835294  2.000068\n",
       "mid_low   17.418447  11.082796  5.974233  90.011650  2.072428\n",
       "mid_high  21.212500   0.894798  6.087675  82.507500  2.480024\n",
       "high      25.866090   0.248699  6.471142  54.576817  4.984178"
      ]
     },
     "execution_count": 28,
     "metadata": {},
     "output_type": "execute_result"
    }
   ],
   "source": [
    "spectral.fit(boston.data)\n",
    "boston_df['category'] = spectral.labels_\n",
    "boston_df['price'] = boston.target\n",
    "house_clusters = boston_df.groupby('category').mean().sort_values('price')\n",
    "house_clusters.index = ['low', 'mid_low', 'mid_high', 'high']\n",
    "house_clusters[['price', 'CRIM', 'RM', 'AGE', 'DIS']]"
   ]
  },
  {
   "cell_type": "code",
   "execution_count": null,
   "metadata": {},
   "outputs": [],
   "source": []
  }
 ],
 "metadata": {
  "kernelspec": {
   "display_name": "Python 2",
   "language": "python",
   "name": "python2"
  },
  "language_info": {
   "codemirror_mode": {
    "name": "ipython",
    "version": 2
   },
   "file_extension": ".py",
   "mimetype": "text/x-python",
   "name": "python",
   "nbconvert_exporter": "python",
   "pygments_lexer": "ipython2",
   "version": "2.7.15"
  }
 },
 "nbformat": 4,
 "nbformat_minor": 2
}
